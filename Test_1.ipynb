{
  "cells": [
    {
      "cell_type": "code",
      "metadata": {
        "jukit_cell_id": "JrVduAWhra"
      },
      "source": [
        "import pandas as pd\n",
        "import numpy as np\n",
        "import matplotlib.pyplot as plt\n",
        "import datetime as dt"
      ],
      "outputs": [],
      "execution_count": null
    },
    {
      "cell_type": "code",
      "metadata": {
        "jukit_cell_id": "QaNRgqRH"
      },
      "source": [
        "df_covid = pd.read_csv('owid-covid-data.csv')\n",
        "df_mental = pd.read_csv('IHME-GBD_2021_DATA-31d34781-1.csv')"
      ],
      "outputs": [],
      "execution_count": null
    },
    {
      "cell_type": "code",
      "metadata": {
        "jukit_cell_id": "h8dAbYFzZ1"
      },
      "source": [
        "df_covid.columns"
      ],
      "outputs": [
        {
          "output_type": "stream",
          "name": "stdout",
          "text": "\n"
        },
        {
          "output_type": "execute_result",
          "execution_count": 1,
          "data": {
            "text/plain": "Index(['iso_code', 'continent', 'location', 'date', 'total_cases', 'new_cases',\n       'new_cases_smoothed', 'total_deaths', 'new_deaths',\n       'new_deaths_smoothed', 'total_cases_per_million',\n       'new_cases_per_million', 'new_cases_smoothed_per_million',\n       'total_deaths_per_million', 'new_deaths_per_million',\n       'new_deaths_smoothed_per_million', 'reproduction_rate', 'icu_patients',\n       'icu_patients_per_million', 'hosp_patients',\n       'hosp_patients_per_million', 'weekly_icu_admissions',\n       'weekly_icu_admissions_per_million', 'weekly_hosp_admissions',\n       'weekly_hosp_admissions_per_million', 'total_tests', 'new_tests',\n       'total_tests_per_thousand', 'new_tests_per_thousand',\n       'new_tests_smoothed', 'new_tests_smoothed_per_thousand',\n       'positive_rate', 'tests_per_case', 'tests_units', 'total_vaccinations',\n       'people_vaccinated', 'people_fully_vaccinated', 'total_boosters',\n       'new_vaccinations', 'new_vaccinations_smoothed',\n       'total_vaccinations_per_hundred', 'people_vaccinated_per_hundred',\n       'people_fully_vaccinated_per_hundred', 'total_boosters_per_hundred',\n       'new_vaccinations_smoothed_per_million',\n       'new_people_vaccinated_smoothed',\n       'new_people_vaccinated_smoothed_per_hundred', 'stringency_index',\n       'population_density', 'median_age', 'aged_65_older', 'aged_70_older',\n       'gdp_per_capita', 'extreme_poverty', 'cardiovasc_death_rate',\n       'diabetes_prevalence', 'female_smokers', 'male_smokers',\n       'handwashing_facilities', 'hospital_beds_per_thousand',\n       'life_expectancy', 'human_development_index', 'population',\n       'excess_mortality_cumulative_absolute', 'excess_mortality_cumulative',\n       'excess_mortality', 'excess_mortality_cumulative_per_million'],\n      dtype='object')"
          },
          "metadata": {}
        }
      ],
      "execution_count": 1
    },
    {
      "cell_type": "code",
      "metadata": {
        "jukit_cell_id": "M9kFeRkhlG"
      },
      "source": [
        "df_mental.columns"
      ],
      "outputs": [
        {
          "output_type": "stream",
          "name": "stdout",
          "text": "\n"
        },
        {
          "output_type": "execute_result",
          "execution_count": 2,
          "data": {
            "text/plain": "Index(['measure_id', 'measure_name', 'location_id', 'location_name', 'sex_id',\n       'sex_name', 'age_id', 'age_name', 'cause_id', 'cause_name', 'metric_id',\n       'metric_name', 'year', 'val', 'upper', 'lower'],\n      dtype='object')"
          },
          "metadata": {}
        }
      ],
      "execution_count": 2
    },
    {
      "cell_type": "code",
      "metadata": {
        "jukit_cell_id": "5CMFBXL1hM"
      },
      "source": [
        "usa_c = (df_covid[df_covid['iso_code'] == 'USA'])\n",
        "usa_c['date']"
      ],
      "outputs": [
        {
          "output_type": "stream",
          "name": "stdout",
          "text": "\n"
        },
        {
          "output_type": "execute_result",
          "execution_count": 3,
          "data": {
            "text/plain": "380767    2020-01-05\n380768    2020-01-06\n380769    2020-01-07\n380770    2020-01-08\n380771    2020-01-09\n             ...    \n382366    2024-05-22\n382367    2024-05-23\n382368    2024-05-24\n382369    2024-05-25\n382370    2024-05-26\nName: date, Length: 1604, dtype: object"
          },
          "metadata": {}
        }
      ],
      "execution_count": 3
    },
    {
      "cell_type": "code",
      "metadata": {
        "jukit_cell_id": "tfMNA0MwM3"
      },
      "source": [],
      "outputs": [],
      "execution_count": null
    }
  ],
  "metadata": {
    "anaconda-cloud": {},
    "kernelspec": {
      "display_name": "python",
      "language": "python",
      "name": "python3"
    }
  },
  "nbformat": 4,
  "nbformat_minor": 4
}

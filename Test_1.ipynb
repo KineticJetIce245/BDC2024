{
  "cells": [
    {
      "cell_type": "code",
      "execution_count": null,
      "metadata": {
        "jukit_cell_id": "JrVduAWhra"
      },
      "outputs": [],
      "source": [
        "import pandas as pd\n",
        "import numpy as np\n",
        "import matplotlib.pyplot as plt\n",
        "import datetime as dt"
      ]
    },
    {
      "cell_type": "code",
      "execution_count": null,
      "metadata": {
        "jukit_cell_id": "QaNRgqRH"
      },
      "outputs": [],
      "source": [
        "df_covid = pd.read_csv('owid-covid-data.csv')\n",
        "df_mental = pd.read_csv('IHME-GBD_2021_DATA-31d34781-1.csv')"
      ]
    },
    {
      "cell_type": "code",
      "execution_count": 1,
      "metadata": {
        "jukit_cell_id": "h8dAbYFzZ1"
      },
      "outputs": [
        {
          "name": "stdout",
          "output_type": "stream",
          "text": [
            "\n"
          ]
        },
        {
          "data": {
            "text/plain": [
              "Index(['iso_code', 'continent', 'location', 'date', 'total_cases', 'new_cases',\n",
              "       'new_cases_smoothed', 'total_deaths', 'new_deaths',\n",
              "       'new_deaths_smoothed', 'total_cases_per_million',\n",
              "       'new_cases_per_million', 'new_cases_smoothed_per_million',\n",
              "       'total_deaths_per_million', 'new_deaths_per_million',\n",
              "       'new_deaths_smoothed_per_million', 'reproduction_rate', 'icu_patients',\n",
              "       'icu_patients_per_million', 'hosp_patients',\n",
              "       'hosp_patients_per_million', 'weekly_icu_admissions',\n",
              "       'weekly_icu_admissions_per_million', 'weekly_hosp_admissions',\n",
              "       'weekly_hosp_admissions_per_million', 'total_tests', 'new_tests',\n",
              "       'total_tests_per_thousand', 'new_tests_per_thousand',\n",
              "       'new_tests_smoothed', 'new_tests_smoothed_per_thousand',\n",
              "       'positive_rate', 'tests_per_case', 'tests_units', 'total_vaccinations',\n",
              "       'people_vaccinated', 'people_fully_vaccinated', 'total_boosters',\n",
              "       'new_vaccinations', 'new_vaccinations_smoothed',\n",
              "       'total_vaccinations_per_hundred', 'people_vaccinated_per_hundred',\n",
              "       'people_fully_vaccinated_per_hundred', 'total_boosters_per_hundred',\n",
              "       'new_vaccinations_smoothed_per_million',\n",
              "       'new_people_vaccinated_smoothed',\n",
              "       'new_people_vaccinated_smoothed_per_hundred', 'stringency_index',\n",
              "       'population_density', 'median_age', 'aged_65_older', 'aged_70_older',\n",
              "       'gdp_per_capita', 'extreme_poverty', 'cardiovasc_death_rate',\n",
              "       'diabetes_prevalence', 'female_smokers', 'male_smokers',\n",
              "       'handwashing_facilities', 'hospital_beds_per_thousand',\n",
              "       'life_expectancy', 'human_development_index', 'population',\n",
              "       'excess_mortality_cumulative_absolute', 'excess_mortality_cumulative',\n",
              "       'excess_mortality', 'excess_mortality_cumulative_per_million'],\n",
              "      dtype='object')"
            ]
          },
          "execution_count": 1,
          "metadata": {},
          "output_type": "execute_result"
        }
      ],
      "source": [
        "df_covid.columns"
      ]
    },
    {
      "cell_type": "code",
      "execution_count": 2,
      "metadata": {
        "jukit_cell_id": "M9kFeRkhlG"
      },
      "outputs": [
        {
          "name": "stdout",
          "output_type": "stream",
          "text": [
            "\n"
          ]
        },
        {
          "data": {
            "text/plain": [
              "Index(['measure_id', 'measure_name', 'location_id', 'location_name', 'sex_id',\n",
              "       'sex_name', 'age_id', 'age_name', 'cause_id', 'cause_name', 'metric_id',\n",
              "       'metric_name', 'year', 'val', 'upper', 'lower'],\n",
              "      dtype='object')"
            ]
          },
          "execution_count": 2,
          "metadata": {},
          "output_type": "execute_result"
        }
      ],
      "source": [
        "df_mental.columns"
      ]
    },
    {
      "cell_type": "code",
      "execution_count": 3,
      "metadata": {
        "jukit_cell_id": "5CMFBXL1hM"
      },
      "outputs": [
        {
          "name": "stdout",
          "output_type": "stream",
          "text": [
            "\n"
          ]
        },
        {
          "data": {
            "text/plain": [
              "       iso_code  ... excess_mortality_cumulative_per_million\n",
              "380767      USA  ...                               -8.248447\n",
              "380768      USA  ...                                     NaN\n",
              "380769      USA  ...                                     NaN\n",
              "380770      USA  ...                                     NaN\n",
              "380771      USA  ...                                     NaN\n",
              "...         ...  ...                                     ...\n",
              "382366      USA  ...                                     NaN\n",
              "382367      USA  ...                                     NaN\n",
              "382368      USA  ...                                     NaN\n",
              "382369      USA  ...                                     NaN\n",
              "382370      USA  ...                                     NaN\n",
              "\n",
              "[1604 rows x 67 columns]"
            ]
          },
          "execution_count": 3,
          "metadata": {},
          "output_type": "execute_result"
        }
      ],
      "source": [
        "usa_c = (df_covid[df_covid['iso_code'] == 'USA'])\n",
        "usa_c"
      ]
    },
    {
      "cell_type": "code",
      "execution_count": 4,
      "metadata": {
        "jukit_cell_id": "tfMNA0MwM3"
      },
      "outputs": [
        {
          "name": "stdout",
          "output_type": "stream",
          "text": [
            "\n"
          ]
        },
        {
          "data": {
            "text/plain": [
              "new_cases    52183.552486\n",
              "dtype: float64"
            ]
          },
          "execution_count": 4,
          "metadata": {},
          "output_type": "execute_result"
        }
      ],
      "source": [
        "usa_c_20 = usa_c.query(\"date.str.contains('2020')\")\n",
        "usa_c_20[['new_cases']].sum(0, numeric_only = True)\n",
        "usa_c_20[['new_cases']].mean(0, numeric_only = True)"
      ]
    },
    {
      "cell_type": "code",
      "execution_count": null,
      "metadata": {
        "jukit_cell_id": "4jr0Xjxg9x"
      },
      "outputs": [],
      "source": []
    }
  ],
  "metadata": {
    "anaconda-cloud": {},
    "kernelspec": {
      "display_name": "python",
      "language": "python",
      "name": "python3"
    },
    "language_info": {
      "name": "python",
      "version": "undefined.undefined.undefined"
    }
  },
  "nbformat": 4,
  "nbformat_minor": 4
}
